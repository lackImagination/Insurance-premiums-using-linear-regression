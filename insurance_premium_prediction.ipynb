{
  "nbformat": 4,
  "nbformat_minor": 0,
  "metadata": {
    "colab": {
      "provenance": [],
      "authorship_tag": "ABX9TyOLIAXI3Iz40VFyDxGXhfLL"
    },
    "kernelspec": {
      "name": "python3",
      "display_name": "Python 3"
    },
    "language_info": {
      "name": "python"
    }
  },
  "cells": [
    {
      "cell_type": "markdown",
      "source": [
        "#Прогнозирование стоимости медицинской страховки с использованием линейной регрессии\n",
        "В этом ноутбуке проводится анализ данных о страховых взносах с использованием различных техник предобработки данных и построения моделей линейной регрессии для предсказания логарифма стоимости страховки. Мы исследуем влияние различных признаков на стоимость страховых взносов, обучая модель линейной регрессии, используя стандартизацию и полиномиальные признаки."
      ],
      "metadata": {
        "id": "FspTqN7FllcW"
      }
    },
    {
      "cell_type": "markdown",
      "source": [
        "## Содержание\n",
        "\n",
        "1. **Импорт необходимых библиотек**\n",
        "2. **Загрузка и подготовка данных**\n",
        "3. **Описание функций**\n",
        "\n",
        " 3.1. **Функция распределения данных**\n",
        "\n",
        " 3.2. **Функция для оценки модели регрессии**\n",
        "\n",
        " 3.3. **Функция для вывод результатов модели**\n",
        "4. **Обучение модели на масштабированных данных**\n",
        "5. **Использование всех признаков (включая качественные)**\n",
        "6. **Применение полиномиальных признаков**\n",
        "7. **Заключение**\n"
      ],
      "metadata": {
        "id": "QDWTrTkklrnm"
      }
    },
    {
      "cell_type": "markdown",
      "source": [
        "### 1. Импорт необходимых библиотек\n",
        "\n",
        "В этом блоке импортируются необходимые библиотеки для работы с данными и моделями машинного обучения."
      ],
      "metadata": {
        "id": "B3ABzSoQlyVR"
      }
    },
    {
      "cell_type": "code",
      "execution_count": null,
      "metadata": {
        "id": "7Uda0jJzljkW"
      },
      "outputs": [],
      "source": [
        "from math import sqrt\n",
        "import numpy as np\n",
        "import pandas as pd\n",
        "from matplotlib import pyplot as plt\n",
        "from sklearn.linear_model import LinearRegression\n",
        "from sklearn.metrics import mean_squared_error\n",
        "from sklearn.metrics import r2_score\n",
        "from sklearn.model_selection import train_test_split\n",
        "from sklearn.preprocessing import MinMaxScaler\n",
        "from sklearn.preprocessing import PolynomialFeatures"
      ]
    },
    {
      "cell_type": "markdown",
      "source": [
        "- **math** и **numpy**: для выполнения математических операций и работы с массивами данных.\n",
        "- **pandas**: для работы с таблицами данных.\n",
        "- **matplotlib**: для визуализации данных.\n",
        "- **sklearn.linear_model.LinearRegression**: для применения линейной регрессии.\n",
        "- **sklearn.metrics**: для вычисления метрик модели.\n",
        "- **sklearn.model_selection.train_test_split**: для разделения данных на обучающую и тестовую выборки.\n",
        "- **sklearn.preprocessing.MinMaxScaler** и **PolynomialFeatures**: для масштабирования данных и работы с полиномиальными признаками."
      ],
      "metadata": {
        "id": "poAEQgQ5l3Py"
      }
    },
    {
      "cell_type": "markdown",
      "source": [
        "### 2. Загрузка и подготовка данных\n",
        "\n",
        "В этом блоке загружается датасет и производится подготовка данных для анализа."
      ],
      "metadata": {
        "id": "l7tdZe_Sl5nB"
      }
    },
    {
      "cell_type": "code",
      "source": [
        "from google.colab import files\n",
        "uploaded = files.upload()\n",
        "data = pd.read_csv('insurance.csv')\n",
        "data['log_charges'] = np.log1p(data['charges'])\n",
        "data = data.drop('charges', axis=1)\n",
        "\n",
        "quantitative = ['age', 'bmi', 'children']  # количественные\n",
        "qualitative = ['sex', 'smoker', 'region']  # качественные\n",
        "\n",
        "scaled = MinMaxScaler().fit_transform(data[quantitative])\n",
        "scaled_df = pd.DataFrame(scaled, columns=quantitative)"
      ],
      "metadata": {
        "colab": {
          "base_uri": "https://localhost:8080/",
          "height": 74
        },
        "id": "-IPnEFbfl6G4",
        "outputId": "d8231720-7c47-4938-b64a-6caafe7c1927"
      },
      "execution_count": null,
      "outputs": [
        {
          "output_type": "display_data",
          "data": {
            "text/plain": [
              "<IPython.core.display.HTML object>"
            ],
            "text/html": [
              "\n",
              "     <input type=\"file\" id=\"files-8edbc1c1-39c6-43d7-9ba9-f4e31a31c09c\" name=\"files[]\" multiple disabled\n",
              "        style=\"border:none\" />\n",
              "     <output id=\"result-8edbc1c1-39c6-43d7-9ba9-f4e31a31c09c\">\n",
              "      Upload widget is only available when the cell has been executed in the\n",
              "      current browser session. Please rerun this cell to enable.\n",
              "      </output>\n",
              "      <script>// Copyright 2017 Google LLC\n",
              "//\n",
              "// Licensed under the Apache License, Version 2.0 (the \"License\");\n",
              "// you may not use this file except in compliance with the License.\n",
              "// You may obtain a copy of the License at\n",
              "//\n",
              "//      http://www.apache.org/licenses/LICENSE-2.0\n",
              "//\n",
              "// Unless required by applicable law or agreed to in writing, software\n",
              "// distributed under the License is distributed on an \"AS IS\" BASIS,\n",
              "// WITHOUT WARRANTIES OR CONDITIONS OF ANY KIND, either express or implied.\n",
              "// See the License for the specific language governing permissions and\n",
              "// limitations under the License.\n",
              "\n",
              "/**\n",
              " * @fileoverview Helpers for google.colab Python module.\n",
              " */\n",
              "(function(scope) {\n",
              "function span(text, styleAttributes = {}) {\n",
              "  const element = document.createElement('span');\n",
              "  element.textContent = text;\n",
              "  for (const key of Object.keys(styleAttributes)) {\n",
              "    element.style[key] = styleAttributes[key];\n",
              "  }\n",
              "  return element;\n",
              "}\n",
              "\n",
              "// Max number of bytes which will be uploaded at a time.\n",
              "const MAX_PAYLOAD_SIZE = 100 * 1024;\n",
              "\n",
              "function _uploadFiles(inputId, outputId) {\n",
              "  const steps = uploadFilesStep(inputId, outputId);\n",
              "  const outputElement = document.getElementById(outputId);\n",
              "  // Cache steps on the outputElement to make it available for the next call\n",
              "  // to uploadFilesContinue from Python.\n",
              "  outputElement.steps = steps;\n",
              "\n",
              "  return _uploadFilesContinue(outputId);\n",
              "}\n",
              "\n",
              "// This is roughly an async generator (not supported in the browser yet),\n",
              "// where there are multiple asynchronous steps and the Python side is going\n",
              "// to poll for completion of each step.\n",
              "// This uses a Promise to block the python side on completion of each step,\n",
              "// then passes the result of the previous step as the input to the next step.\n",
              "function _uploadFilesContinue(outputId) {\n",
              "  const outputElement = document.getElementById(outputId);\n",
              "  const steps = outputElement.steps;\n",
              "\n",
              "  const next = steps.next(outputElement.lastPromiseValue);\n",
              "  return Promise.resolve(next.value.promise).then((value) => {\n",
              "    // Cache the last promise value to make it available to the next\n",
              "    // step of the generator.\n",
              "    outputElement.lastPromiseValue = value;\n",
              "    return next.value.response;\n",
              "  });\n",
              "}\n",
              "\n",
              "/**\n",
              " * Generator function which is called between each async step of the upload\n",
              " * process.\n",
              " * @param {string} inputId Element ID of the input file picker element.\n",
              " * @param {string} outputId Element ID of the output display.\n",
              " * @return {!Iterable<!Object>} Iterable of next steps.\n",
              " */\n",
              "function* uploadFilesStep(inputId, outputId) {\n",
              "  const inputElement = document.getElementById(inputId);\n",
              "  inputElement.disabled = false;\n",
              "\n",
              "  const outputElement = document.getElementById(outputId);\n",
              "  outputElement.innerHTML = '';\n",
              "\n",
              "  const pickedPromise = new Promise((resolve) => {\n",
              "    inputElement.addEventListener('change', (e) => {\n",
              "      resolve(e.target.files);\n",
              "    });\n",
              "  });\n",
              "\n",
              "  const cancel = document.createElement('button');\n",
              "  inputElement.parentElement.appendChild(cancel);\n",
              "  cancel.textContent = 'Cancel upload';\n",
              "  const cancelPromise = new Promise((resolve) => {\n",
              "    cancel.onclick = () => {\n",
              "      resolve(null);\n",
              "    };\n",
              "  });\n",
              "\n",
              "  // Wait for the user to pick the files.\n",
              "  const files = yield {\n",
              "    promise: Promise.race([pickedPromise, cancelPromise]),\n",
              "    response: {\n",
              "      action: 'starting',\n",
              "    }\n",
              "  };\n",
              "\n",
              "  cancel.remove();\n",
              "\n",
              "  // Disable the input element since further picks are not allowed.\n",
              "  inputElement.disabled = true;\n",
              "\n",
              "  if (!files) {\n",
              "    return {\n",
              "      response: {\n",
              "        action: 'complete',\n",
              "      }\n",
              "    };\n",
              "  }\n",
              "\n",
              "  for (const file of files) {\n",
              "    const li = document.createElement('li');\n",
              "    li.append(span(file.name, {fontWeight: 'bold'}));\n",
              "    li.append(span(\n",
              "        `(${file.type || 'n/a'}) - ${file.size} bytes, ` +\n",
              "        `last modified: ${\n",
              "            file.lastModifiedDate ? file.lastModifiedDate.toLocaleDateString() :\n",
              "                                    'n/a'} - `));\n",
              "    const percent = span('0% done');\n",
              "    li.appendChild(percent);\n",
              "\n",
              "    outputElement.appendChild(li);\n",
              "\n",
              "    const fileDataPromise = new Promise((resolve) => {\n",
              "      const reader = new FileReader();\n",
              "      reader.onload = (e) => {\n",
              "        resolve(e.target.result);\n",
              "      };\n",
              "      reader.readAsArrayBuffer(file);\n",
              "    });\n",
              "    // Wait for the data to be ready.\n",
              "    let fileData = yield {\n",
              "      promise: fileDataPromise,\n",
              "      response: {\n",
              "        action: 'continue',\n",
              "      }\n",
              "    };\n",
              "\n",
              "    // Use a chunked sending to avoid message size limits. See b/62115660.\n",
              "    let position = 0;\n",
              "    do {\n",
              "      const length = Math.min(fileData.byteLength - position, MAX_PAYLOAD_SIZE);\n",
              "      const chunk = new Uint8Array(fileData, position, length);\n",
              "      position += length;\n",
              "\n",
              "      const base64 = btoa(String.fromCharCode.apply(null, chunk));\n",
              "      yield {\n",
              "        response: {\n",
              "          action: 'append',\n",
              "          file: file.name,\n",
              "          data: base64,\n",
              "        },\n",
              "      };\n",
              "\n",
              "      let percentDone = fileData.byteLength === 0 ?\n",
              "          100 :\n",
              "          Math.round((position / fileData.byteLength) * 100);\n",
              "      percent.textContent = `${percentDone}% done`;\n",
              "\n",
              "    } while (position < fileData.byteLength);\n",
              "  }\n",
              "\n",
              "  // All done.\n",
              "  yield {\n",
              "    response: {\n",
              "      action: 'complete',\n",
              "    }\n",
              "  };\n",
              "}\n",
              "\n",
              "scope.google = scope.google || {};\n",
              "scope.google.colab = scope.google.colab || {};\n",
              "scope.google.colab._files = {\n",
              "  _uploadFiles,\n",
              "  _uploadFilesContinue,\n",
              "};\n",
              "})(self);\n",
              "</script> "
            ]
          },
          "metadata": {}
        },
        {
          "output_type": "stream",
          "name": "stdout",
          "text": [
            "Saving insurance.csv to insurance.csv\n"
          ]
        }
      ]
    },
    {
      "cell_type": "markdown",
      "source": [
        "- Датасет `insurance.csv` загружается с помощью **pandas**.\n",
        "- Для улучшения нормализации данных добавляется новый столбец `log_charges`, который является логарифмом от оригинальной переменной `charges`.\n",
        "- Данные разделяются на количественные и качественные признаки.\n",
        "- Количественные признаки масштабируются с помощью **MinMaxScaler**, который приводит значения в диапазон от 0 до 1."
      ],
      "metadata": {
        "id": "_DBfIOpDmCzp"
      }
    },
    {
      "cell_type": "markdown",
      "source": [
        "### 3. Описание функций"
      ],
      "metadata": {
        "id": "zEK3ZOOqrpb8"
      }
    },
    {
      "cell_type": "markdown",
      "source": [
        "#### 3.1. Функция распределения данных\n",
        "\n",
        "Эта функция используется для визуализации распределения переменной `charges` и её логарифмического преобразования."
      ],
      "metadata": {
        "id": "KDXL9fCgmDd3"
      }
    },
    {
      "cell_type": "code",
      "source": [
        "def distribution(old, new):\n",
        "    fig, axes = plt.subplots(nrows=1, ncols=2, figsize=(6, 3))\n",
        "    axes[0].hist(old, bins=15, color='skyblue', edgecolor='black')\n",
        "    axes[0].set_xlabel('Charges')\n",
        "    axes[0].set_ylabel('Frequency')\n",
        "    axes[1].hist(new, bins=15, color='salmon', edgecolor='black')\n",
        "    axes[1].set_xlabel('Log Charges')\n",
        "    axes[1].set_ylabel('Frequency')\n",
        "    plt.tight_layout()\n",
        "    plt.show()"
      ],
      "metadata": {
        "id": "ik-ZJGvMmHUI"
      },
      "execution_count": null,
      "outputs": []
    },
    {
      "cell_type": "markdown",
      "source": [
        "Эта функция строит два гистограммных графика: один для оригинальных значений `charges`, второй — для их логарифмического преобразования."
      ],
      "metadata": {
        "id": "IML7tnKEmJqq"
      }
    },
    {
      "cell_type": "markdown",
      "source": [
        "#### 3.2. Функция для оценки модели регрессии\n",
        "\n",
        "Функция `evaluate_regression` оценивает качество модели на основе нескольких метрик: MSE, R² и RSD."
      ],
      "metadata": {
        "id": "nMSVDzZkmKCa"
      }
    },
    {
      "cell_type": "code",
      "source": [
        "def evaluate_regression(y_train, y_train_pred, y_test, y_test_pred):\n",
        "    mse_train = mean_squared_error(y_train, y_train_pred)\n",
        "    mse_test = mean_squared_error(y_test, y_test_pred)\n",
        "\n",
        "    r2_train = r2_score(y_train, y_train_pred) * 100\n",
        "    r2_test = r2_score(y_test, y_test_pred) * 100\n",
        "\n",
        "    rsd_train = (sqrt(mse_train) / np.mean(y_train)) * 100\n",
        "    rsd_test = (sqrt(mse_test) / np.mean(y_test)) * 100\n",
        "\n",
        "    output(mse_train, mse_test, rsd_train, rsd_test, r2_train, r2_test)"
      ],
      "metadata": {
        "id": "eTQgQDyfmM2R"
      },
      "execution_count": null,
      "outputs": []
    },
    {
      "cell_type": "markdown",
      "source": [
        "- **mean_squared_error**: вычисляет среднюю квадратическую ошибку.\n",
        "- **r2_score**: вычисляет коэффициент детерминации (R²), который показывает, как хорошо модель объясняет данные.\n",
        "- **sqrt(MSE)**: используется для расчета средней относительной погрешности (RSD)."
      ],
      "metadata": {
        "id": "sIp5KrXJmROq"
      }
    },
    {
      "cell_type": "markdown",
      "source": [
        "#### 3.3. Функция для обучение модели на различных признаках\n",
        "\n",
        "Функция `learning` обучает модель линейной регрессии на различных комбинациях признаков."
      ],
      "metadata": {
        "id": "S6J__rANmd-9"
      }
    },
    {
      "cell_type": "code",
      "source": [
        "def learning(X, Y):\n",
        "    X_train, X_test, y_train, y_test = train_test_split(X, Y, test_size=0.3)\n",
        "    model = LinearRegression()\n",
        "    model.fit(X_train, y_train)\n",
        "    y_train_pred = model.predict(X_train)\n",
        "    y_test_pred = model.predict(X_test)\n",
        "    evaluate_regression(y_train, y_train_pred, y_test, y_test_pred)"
      ],
      "metadata": {
        "id": "rsuTjlbDmfBm"
      },
      "execution_count": null,
      "outputs": []
    },
    {
      "cell_type": "markdown",
      "source": [
        "- Данные разделяются на обучающую и тестовую выборки.\n",
        "- Модель линейной регрессии обучается на обучающих данных и оценивается на тестовых."
      ],
      "metadata": {
        "id": "NOjRaHapmi50"
      }
    },
    {
      "cell_type": "markdown",
      "source": [
        "#### 3.4. Функция для вывод результатов модели\n",
        "\n",
        "Функция `output` выводит метрики модели в виде таблицы для обучающих и тестовых данных."
      ],
      "metadata": {
        "id": "n2EWPEinmmIU"
      }
    },
    {
      "cell_type": "code",
      "source": [
        "def output(mse_train, mse_test, rsd_train, rsd_test, r2_train, r2_test):\n",
        "    metrics_dict = {'Средняя квадратическая ошибка (MSE)': [f\"{mse_train:.3f}\", f\"{mse_test:.3f}\"],\n",
        "                    'Средняя относительная погрешность (RSD)': [f\"{rsd_train:.3f}%\", f\"{rsd_test:.3f}%\"],\n",
        "                    'Коэффициент детерминации (R^2)': [f\"{r2_train:.3f}%\", f\"{r2_test:.3f}%\"]}\n",
        "    metrics_df = pd.DataFrame.from_dict(metrics_dict, orient='index',\n",
        "                                        columns=['ОБУЧАЮЩАЯ', 'ТЕСТОВАЯ'])\n",
        "    print(metrics_df)"
      ],
      "metadata": {
        "id": "nshZgwBymm41"
      },
      "execution_count": null,
      "outputs": []
    },
    {
      "cell_type": "markdown",
      "source": [
        "### 4. Обучение модели на масштабированных данных"
      ],
      "metadata": {
        "id": "enactIS7qoPp"
      }
    },
    {
      "cell_type": "code",
      "source": [
        "print(\"Только количественные признаки\")\n",
        "learning(scaled_df, data['log_charges'])"
      ],
      "metadata": {
        "colab": {
          "base_uri": "https://localhost:8080/"
        },
        "id": "Xg8UkdNcoErW",
        "outputId": "602e4d76-f918-4eb1-b286-8255f9777f1c"
      },
      "execution_count": null,
      "outputs": [
        {
          "output_type": "stream",
          "name": "stdout",
          "text": [
            "Только количественные признаки\n",
            "                                        ОБУЧАЮЩАЯ ТЕСТОВАЯ\n",
            "Средняя квадратическая ошибка (MSE)         0.561    0.654\n",
            "Средняя относительная погрешность (RSD)    8.234%   8.885%\n",
            "Коэффициент детерминации (R^2)            30.931%  28.872%\n"
          ]
        }
      ]
    },
    {
      "cell_type": "markdown",
      "source": [
        "### 5. Использование всех признаков (включая качественные)\n",
        "\n",
        "Применим кодирование категориальных признаков с помощью `get_dummies` для качественных признаков и обучим модель на всех признаках."
      ],
      "metadata": {
        "id": "298Sj4vbq2pz"
      }
    },
    {
      "cell_type": "code",
      "source": [
        "data_encoded = pd.get_dummies(data[qualitative], columns=qualitative, drop_first=True)\n",
        "data_df = pd.concat([data_encoded, scaled_df], axis=1)\n",
        "print(\"\\nОт всех признаков, включая качественные\")\n",
        "learning(data_df, data['log_charges'])"
      ],
      "metadata": {
        "colab": {
          "base_uri": "https://localhost:8080/"
        },
        "id": "UFsRF_tvoJZt",
        "outputId": "9368228c-563e-485b-c050-7ccc6d4fe4bd"
      },
      "execution_count": null,
      "outputs": [
        {
          "output_type": "stream",
          "name": "stdout",
          "text": [
            "\n",
            "От всех признаков, включая качественные\n",
            "                                        ОБУЧАЮЩАЯ ТЕСТОВАЯ\n",
            "Средняя квадратическая ошибка (MSE)         0.213    0.161\n",
            "Средняя относительная погрешность (RSD)    5.048%   4.459%\n",
            "Коэффициент детерминации (R^2)            74.769%  80.550%\n"
          ]
        }
      ]
    },
    {
      "cell_type": "markdown",
      "source": [
        "### 6. Применение полиномиальных признаков\n",
        "\n",
        "Для улучшения модели можно использовать полиномиальные признаки. Это позволяет выявить нелинейные зависимости в данных.\n"
      ],
      "metadata": {
        "id": "AxPgJWc9rA9e"
      }
    },
    {
      "cell_type": "code",
      "source": [
        "plf = PolynomialFeatures(degree=2, include_bias=False)\n",
        "X_poly = plf.fit_transform(scaled_df)\n",
        "X_poly_df = pd.DataFrame(X_poly, columns=plf.get_feature_names_out(quantitative))\n",
        "X_poly_encoded = pd.concat([X_poly_df, data_df], axis=1)\n",
        "print(\"Полином\")\n",
        "learning(X_poly_encoded, data['log_charges'])"
      ],
      "metadata": {
        "colab": {
          "base_uri": "https://localhost:8080/"
        },
        "id": "vZuIblp_oPpf",
        "outputId": "648bf8ae-eb20-4f74-9507-8d7ec3e400ba"
      },
      "execution_count": null,
      "outputs": [
        {
          "output_type": "stream",
          "name": "stdout",
          "text": [
            "Полином\n",
            "                                        ОБУЧАЮЩАЯ ТЕСТОВАЯ\n",
            "Средняя квадратическая ошибка (MSE)         0.195    0.180\n",
            "Средняя относительная погрешность (RSD)    4.846%   4.673%\n",
            "Коэффициент детерминации (R^2)            76.927%  78.708%\n"
          ]
        }
      ]
    },
    {
      "cell_type": "markdown",
      "source": [
        "Здесь формируется словарь с метриками, который затем преобразуется в **DataFrame** для удобного отображения."
      ],
      "metadata": {
        "id": "GstL-zsRmq2E"
      }
    },
    {
      "cell_type": "markdown",
      "source": [
        "### 7. Заключение\n",
        "\n",
        "Этот блокнот демонстрирует, как использовать линейную регрессию для предсказания стоимости медицинской страховки на основе различных признаков. Модели оцениваются с помощью различных метрик, и результаты выводятся в удобном формате для анализа."
      ],
      "metadata": {
        "id": "-2ZPtP92mspn"
      }
    }
  ]
}